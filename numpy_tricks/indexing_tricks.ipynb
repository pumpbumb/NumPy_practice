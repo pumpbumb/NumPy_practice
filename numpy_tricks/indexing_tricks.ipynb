{
 "cells": [
  {
   "cell_type": "markdown",
   "id": "d8e585d8",
   "metadata": {},
   "source": [
    "# 高级索引"
   ]
  },
  {
   "cell_type": "code",
   "execution_count": 16,
   "id": "c569a95f",
   "metadata": {
    "scrolled": false
   },
   "outputs": [
    {
     "name": "stdout",
     "output_type": "stream",
     "text": [
      "[[1 2]\n",
      " [3 4]\n",
      " [5 6]] \n",
      "\n",
      "4\n",
      "4 \n",
      "\n",
      "[[3 4]\n",
      " [5 6]]\n",
      "[[3 4]\n",
      " [5 6]]\n"
     ]
    }
   ],
   "source": [
    "# https://numpy.org/devdocs/user/basics.indexing.html\n",
    "import numpy as np\n",
    "\n",
    "x = np.array([[1, 2], [3, 4], [5, 6]])\n",
    "print(x, '\\n')\n",
    "\n",
    "# 注意(1)，(2)，(3)的索引区别\n",
    "print(x[1, -1])  # (1)\n",
    "print(x[(1, -1)], '\\n')  # (1)的语法糖\n",
    "\n",
    "print(x[[1, -1]])  #(2)\n",
    "\n",
    "print(x[np.array([1, -1])])  #(3)"
   ]
  },
  {
   "cell_type": "code",
   "execution_count": 45,
   "id": "027b3451",
   "metadata": {
    "scrolled": false
   },
   "outputs": [
    {
     "name": "stdout",
     "output_type": "stream",
     "text": [
      "[[ 0  1  2  3  4  5  6]\n",
      " [ 7  8  9 10 11 12 13]\n",
      " [14 15 16 17 18 19 20]\n",
      " [21 22 23 24 25 26 27]\n",
      " [28 29 30 31 32 33 34]] \n",
      "\n",
      "[ 1 15 29] \n",
      "\n",
      "[ 1 15 29] \n",
      "\n",
      "[ 1 15 29] \n",
      "\n",
      "[[ 0  1  2  3  4  5  6]\n",
      " [14 15 16 17 18 19 20]\n",
      " [28 29 30 31 32 33 34]] \n",
      "\n",
      "[[ 0  1  2  3  4  5  6]\n",
      " [14 15 16 17 18 19 20]\n",
      " [28 29 30 31 32 33 34]]\n"
     ]
    }
   ],
   "source": [
    " # 案例来源：https://numpy.org/devdocs/user/basics.indexing.html\n",
    "'''\n",
    "# In this case, if the index arrays have a matching shape, \n",
    "# and there is an index array for each dimension of the array being indexed, the resultant array has the same shape as the index arrays, \n",
    "# and the values correspond to the index set for each position in the index arrays. \n",
    "# In this example, the first index value is 0 for both index arrays, and thus the first value of the resultant array is y[0, 0]. \n",
    "# The next value is y[2, 1], and the last is y[4, 2].\n",
    "'''\n",
    "y = np.arange(35).reshape(5, 7)\n",
    "print(y, '\\n')\n",
    "\n",
    "print(y[np.array([0, 2, 4]), np.array([1, 1, 1])], '\\n')\n",
    "print(y[[0, 2, 4], 1], '\\n')  # 利用广播机制\n",
    "print(y[np.array([0, 2, 4]), 1], '\\n')  # 利用广播机制\n",
    "\n",
    "print(y[np.array([0, 2, 4])], '\\n')\n",
    "print(y[[0, 2, 4]])\n"
   ]
  },
  {
   "cell_type": "markdown",
   "id": "216361d5",
   "metadata": {},
   "source": [
    "# 字段访问"
   ]
  },
  {
   "cell_type": "code",
   "execution_count": null,
   "id": "2eca605e",
   "metadata": {},
   "outputs": [],
   "source": []
  }
 ],
 "metadata": {
  "kernelspec": {
   "display_name": "Python 3 (ipykernel)",
   "language": "python",
   "name": "python3"
  },
  "language_info": {
   "codemirror_mode": {
    "name": "ipython",
    "version": 3
   },
   "file_extension": ".py",
   "mimetype": "text/x-python",
   "name": "python",
   "nbconvert_exporter": "python",
   "pygments_lexer": "ipython3",
   "version": "3.7.6"
  }
 },
 "nbformat": 4,
 "nbformat_minor": 5
}
